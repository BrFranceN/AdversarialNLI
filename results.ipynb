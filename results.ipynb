{
 "cells": [
  {
   "cell_type": "code",
   "execution_count": null,
   "metadata": {},
   "outputs": [],
   "source": [
    "# BASELINE\n",
    "#DISTIL BERT\n",
    "validatioon => {'eval_loss': 0.7188450694084167, 'eval_accuracy': 0.7355769230769231, 'eval_f1': 0.7272669394266372, 'eval_runtime': 12.4568, 'eval_samples_per_second': 183.674, 'eval_steps_per_second': 22.959, 'epoch': 1.0}\n",
    "test => {'eval_loss': 0.7704156637191772, 'eval_accuracy': 0.7039790118058592, 'eval_f1': 0.6946643382506382, 'eval_runtime': 12.0497, 'eval_samples_per_second': 189.798, 'eval_steps_per_second': 23.735, 'epoch': 1.0}\n",
    "adversarial test =>  {'eval_loss': 1.354268193244934, 'eval_accuracy': 0.49258160237388726, 'eval_f1': 0.4937813379136295, 'eval_runtime': 2.084, 'eval_samples_per_second': 161.705, 'eval_steps_per_second': 20.633, 'epoch': 1.0}\n",
    "\n",
    "#BERT\n",
    "validatioon => {'eval_loss': 0.7111941576004028, 'eval_accuracy': 0.743006993006993, 'eval_f1': 0.7342939701079945, 'eval_precision': 0.7439427397873134, 'eval_recall': 0.743006993006993, 'eval_runtime': 24.7538, 'eval_samples_per_second': 92.43, 'eval_steps_per_second': 11.554, 'epoch': 1.0}\n",
    "test => {'eval_loss': 0.7623465061187744, 'eval_accuracy': 0.7153476169654569, 'eval_f1': 0.70682113263702, 'eval_precision': 0.712288274866753, 'eval_recall': 0.7153476169654569, 'eval_runtime': 22.1794, 'eval_samples_per_second': 103.114, 'eval_steps_per_second': 12.895, 'epoch': 1.0}\n",
    "adversarial test =>  {'eval_loss': 1.2053221464157104, 'eval_accuracy': 0.5637982195845698, 'eval_f1': 0.5651160113692641, 'eval_precision': 0.5709497579412387, 'eval_recall': 0.5637982195845698, 'eval_runtime': 4.0716, 'eval_samples_per_second': 82.768, 'eval_steps_per_second': 10.561, 'epoch': 1.0}\n"
   ]
  },
  {
   "cell_type": "code",
   "execution_count": null,
   "metadata": {},
   "outputs": [],
   "source": [
    "# DEEP CHANGE\n",
    "validation => {'eval_loss': 0.7595573663711548, 'eval_accuracy': 0.7255244755244755, 'eval_f1': 0.7146062330646549, 'eval_precision': 0.7314838535445372, 'eval_recall': 0.7255244755244755, 'eval_runtime': 15.5554, 'eval_samples_per_second': 147.087, 'eval_steps_per_second': 18.386, 'epoch': 1.0}\n",
    "test => {'eval_loss': 0.8034407496452332, 'eval_accuracy': 0.6987319632706602, 'eval_f1': 0.6849935490597667, 'eval_precision': 0.698985075526344, 'eval_recall': 0.6987319632706602, 'eval_runtime': 13.593, 'eval_samples_per_second': 168.248, 'eval_steps_per_second': 21.04, 'epoch': 1.0}\n",
    "adversarial test =>  {'eval_test_loss': 1.3396443128585815, 'eval_test_accuracy': 0.5044510385756676, 'eval_test_f1': 0.5038447482974122, 'eval_test_precision': 0.5442163965191419, 'eval_test_recall': 0.5044510385756676, 'eval_test_runtime': 3.0795, 'eval_test_samples_per_second': 109.434, 'eval_test_steps_per_second': 13.963, 'epoch': 1.0}\n"
   ]
  },
  {
   "cell_type": "code",
   "execution_count": null,
   "metadata": {},
   "outputs": [],
   "source": [
    "# ONLY SYNONYMS and HYPERNYM\n",
    "# 1493 samples\n",
    "validation => {'eval_loss': 0.7287940382957458, 'eval_accuracy': 0.7381993006993007, 'eval_f1': 0.7292483980028681, 'eval_runtime': 13.1077, 'eval_samples_per_second': 174.554, 'eval_steps_per_second': 21.819, 'epoch': 1.0}\n",
    "test => {'eval_loss': 0.772628128528595, 'eval_accuracy': 0.7066025360734587, 'eval_f1': 0.6957309176608646, 'eval_runtime': 12.1526, 'eval_samples_per_second': 188.191, 'eval_steps_per_second': 23.534, 'epoch': 1.0}\n",
    "adversarial test =>  {'eval_test_loss': 1.3292462825775146, 'eval_test_accuracy': 0.5074183976261127, 'eval_test_f1': 0.508394502576917, 'eval_test_runtime': 2.1518, 'eval_test_samples_per_second': 156.614, 'eval_test_steps_per_second': 19.983, 'epoch': 1.0}\n",
    "\n",
    "\n",
    "# 9284 samples\n",
    "validation => {'eval_loss': 0.7474285364151001, 'eval_accuracy': 0.7229020979020979, 'eval_f1': 0.71242800231501, 'eval_runtime': 12.7705, 'eval_samples_per_second': 179.164, 'eval_steps_per_second': 22.395, 'epoch': 1.0}\n",
    "test => {'eval_loss': 0.8040689826011658, 'eval_accuracy': 0.695233930913861, 'eval_f1': 0.6841294842634668, 'eval_runtime': 10.8496, 'eval_samples_per_second': 210.791, 'eval_steps_per_second': 26.36, 'epoch': 1.0}\n",
    "adversarial test =>  {'eval_test_loss': 1.3232200145721436, 'eval_test_accuracy': 0.5252225519287834, 'eval_test_f1': 0.526241215895245, 'eval_test_runtime': 1.9934, 'eval_test_samples_per_second': 169.055, 'eval_test_steps_per_second': 21.571, 'epoch': 1.0}\n"
   ]
  },
  {
   "cell_type": "code",
   "execution_count": null,
   "metadata": {},
   "outputs": [],
   "source": [
    "# ONLY SYNONYMS and HYPERNYM with bert\n",
    "# 2082 samples\n",
    "validation => {'eval_loss': 0.7374154329299927, 'eval_accuracy': 0.722027972027972, 'eval_f1': 0.7093757715739946, 'eval_runtime': 12.3364, 'eval_samples_per_second': 185.467, 'eval_steps_per_second': 23.183, 'epoch': 1.0}\n",
    "test => {'eval_loss': 0.7705457210540771, 'eval_accuracy': 0.6969829470922606, 'eval_f1': 0.6814319110509574, 'eval_runtime': 11.453, 'eval_samples_per_second': 199.685, 'eval_steps_per_second': 24.972, 'epoch': 1.0}\n",
    "adversarial test =>  {'eval_test_loss': 1.3350342512130737, 'eval_test_accuracy': 0.49851632047477745, 'eval_test_f1': 0.4923721778954707, 'eval_test_runtime': 2.1106, 'eval_test_samples_per_second': 159.674, 'eval_test_steps_per_second': 20.374, 'epoch': 1.0}\n"
   ]
  },
  {
   "cell_type": "code",
   "execution_count": null,
   "metadata": {},
   "outputs": [],
   "source": [
    "# IS NOT NORMAL + BERT SYN AND HYPERN\n",
    "# new_samples_isnot -> 782\n",
    "# len(new_samples_isnot_change) -> 216\n",
    "validation => {'eval_loss': 0.7323589324951172, 'eval_accuracy': 0.7303321678321678, 'eval_f1': 0.7230994963942083, 'eval_precision': 0.7343115670036711, 'eval_recall': 0.7303321678321678, 'eval_runtime': 74.9138, 'eval_samples_per_second': 30.542, 'eval_steps_per_second': 3.818, 'epoch': 1.0}\n",
    "test => {'eval_loss': 0.7691078782081604, 'eval_accuracy': 0.7074770441626586, 'eval_f1': 0.6992062073166851, 'eval_precision': 0.7082972189564768, 'eval_recall': 0.7074770441626586, 'eval_runtime': 12.5566, 'eval_samples_per_second': 182.135, 'eval_steps_per_second': 22.777, 'epoch': 1.0}\n",
    "adversarial test =>  {'eval_test_loss': 1.3224323987960815, 'eval_test_accuracy': 0.49554896142433236, 'eval_test_f1': 0.4983962461088419, 'eval_test_precision': 0.5258714480954056, 'eval_test_recall': 0.49554896142433236, 'eval_test_runtime': 2.9588, 'eval_test_samples_per_second': 113.898, 'eval_test_steps_per_second': 14.533, 'epoch': 1.0}\n"
   ]
  },
  {
   "cell_type": "code",
   "execution_count": null,
   "metadata": {},
   "outputs": [],
   "source": [
    "# GENERATED SAMPLES\n",
    "# BOTH CONTRADICTION AND NEUTRAL\n",
    "# ABOUT 12000\n",
    "validation => {'eval_loss': 0.7374340891838074, 'eval_accuracy': 0.729458041958042, 'eval_f1': 0.7208261148151317, 'eval_precision': 0.7334466701979898, 'eval_recall': 0.729458041958042, 'eval_runtime': 13.8519, 'eval_samples_per_second': 165.176, 'eval_steps_per_second': 20.647, 'epoch': 1.0}\n",
    "test => {'eval_loss': 0.7785525918006897, 'eval_accuracy': 0.7031045037166593, 'eval_f1': 0.6936215264189622, 'eval_precision': 0.7041881034666769, 'eval_recall': 0.7031045037166593, 'eval_runtime': 12.4974, 'eval_samples_per_second': 182.997, 'eval_steps_per_second': 22.885, 'epoch': 1.0}\n",
    "adversarial test =>  {'eval_test_loss': 1.3774982690811157, 'eval_test_accuracy': 0.4807121661721068, 'eval_test_f1': 0.47965487109914806, 'eval_test_precision': 0.5051974885018555, 'eval_test_recall': 0.4807121661721068, 'eval_test_runtime': 3.0128, 'eval_test_samples_per_second': 111.856, 'eval_test_steps_per_second': 14.272, 'epoch': 1.0}\n",
    "\n",
    "\n",
    "#8000\n",
    "TrainOutput(global_step=1722, training_loss=0.4904061737237769, metrics={'train_runtime': 1770.7657, 'train_samples_per_second': 31.109, 'train_steps_per_second': 0.972, 'total_flos': 7276381827126912.0, 'train_loss': 0.4904061737237769, 'epoch': 1.0})\n"
   ]
  },
  {
   "cell_type": "code",
   "execution_count": null,
   "metadata": {},
   "outputs": [],
   "source": [
    "# GENERATED SAMPLES\n",
    "# ONLY CONTRADICTION\n",
    "#ABOUT 6000\n",
    "validation => {'eval_loss': 0.7399042248725891, 'eval_accuracy': 0.7277097902097902, 'eval_f1': 0.7173045445163029, 'eval_precision': 0.7306794488279025, 'eval_recall': 0.7277097902097902, 'eval_runtime': 14.243, 'eval_samples_per_second': 160.64, 'eval_steps_per_second': 20.08, 'epoch': 1.0}\n",
    "test => {'eval_loss': 0.789012610912323, 'eval_accuracy': 0.7057280279842588, 'eval_f1': 0.695802963508176, 'eval_precision': 0.706528094558678, 'eval_recall': 0.7057280279842588, 'eval_runtime': 13.2215, 'eval_samples_per_second': 172.975, 'eval_steps_per_second': 21.631, 'epoch': 1.0}\n",
    "adversarial test =>  {'eval_test_loss': 1.4222760200500488, 'eval_test_accuracy': 0.4658753709198813, 'eval_test_f1': 0.46177775176582975, 'eval_test_precision': 0.5013401839955367, 'eval_test_recall': 0.4658753709198813, 'eval_test_runtime': 3.0492, 'eval_test_samples_per_second': 110.52, 'eval_test_steps_per_second': 14.102, 'epoch': 1.0}\n"
   ]
  },
  {
   "cell_type": "code",
   "execution_count": null,
   "metadata": {},
   "outputs": [],
   "source": [
    "# GENERATED SAMPLES\n",
    "# ONLY NEUTRAL\n",
    "#ABOUT 6000\n",
    "validation => {'eval_loss': 0.7065356373786926, 'eval_accuracy': 0.7412587412587412, 'eval_f1': 0.7335077427669302, 'eval_precision': 0.7463974348846285, 'eval_recall': 0.7412587412587412, 'eval_runtime': 14.7012, 'eval_samples_per_second': 155.633, 'eval_steps_per_second': 19.454, 'epoch': 1.0}\n",
    "test => {'eval_loss': 0.7525503039360046, 'eval_accuracy': 0.7101005684302579, 'eval_f1': 0.7016997020284772, 'eval_precision': 0.7089697810263217, 'eval_recall': 0.7101005684302579, 'eval_runtime': 12.9291, 'eval_samples_per_second': 176.887, 'eval_steps_per_second': 22.121, 'epoch': 1.0}\n",
    "adversarial test =>  {'eval_test_loss': 1.278942584991455, 'eval_test_accuracy': 0.5103857566765578, 'eval_test_f1': 0.5120091428098056, 'eval_test_precision': 0.5325717235201511, 'eval_test_recall': 0.5103857566765578, 'eval_test_runtime': 2.9709, 'eval_test_samples_per_second': 113.432, 'eval_test_steps_per_second': 14.474, 'epoch': 1.0}\n",
    "\n",
    "\n",
    "#true results:\n",
    "validation => {'eval_loss': 0.7299607396125793, 'eval_accuracy': 0.729458041958042, 'eval_f1': 0.7193355023848054, 'eval_precision': 0.7340694884568295, 'eval_recall': 0.729458041958042, 'eval_runtime': 14.5018, 'eval_samples_per_second': 157.773, 'eval_steps_per_second': 19.722, 'epoch': 1.0}\n",
    "test => {'eval_loss': 0.7743653059005737, 'eval_accuracy': 0.7039790118058592, 'eval_f1': 0.6935809124117447, 'eval_precision': 0.7044370465220243, 'eval_recall': 0.7039790118058592, 'eval_runtime': 12.83, 'eval_samples_per_second': 178.254, 'eval_steps_per_second': 22.292, 'epoch': 1.0}\n",
    "adversarial test =>  {'eval_test_loss': 1.3042174577713013, 'eval_test_accuracy': 0.4836795252225519, 'eval_test_f1': 0.48047063270826407, 'eval_test_precision': 0.5154413277525213, 'eval_test_recall': 0.4836795252225519, 'eval_test_runtime': 3.0578, 'eval_test_samples_per_second': 110.212, 'eval_test_steps_per_second': 14.063, 'epoch': 1.0}\n"
   ]
  },
  {
   "cell_type": "code",
   "execution_count": null,
   "metadata": {},
   "outputs": [],
   "source": [
    "validation => {'eval_loss': 0.7277507781982422, 'eval_accuracy': 0.7290209790209791, 'eval_f1': 0.7211129793086477, 'eval_precision': 0.7289902320112593, 'eval_recall': 0.7290209790209791, 'eval_runtime': 14.5422, 'eval_samples_per_second': 157.335, 'eval_steps_per_second': 19.667, 'epoch': 1.0}\n",
    "test => {'eval_loss': 0.7806430459022522, 'eval_accuracy': 0.7031045037166593, 'eval_f1': 0.6947319559976032, 'eval_precision': 0.7028744389909509, 'eval_recall': 0.7031045037166593, 'eval_runtime': 13.4994, 'eval_samples_per_second': 169.416, 'eval_steps_per_second': 21.186, 'epoch': 1.0}\n",
    "adversarial test =>  {'eval_test_loss': 1.3827335834503174, 'eval_test_accuracy': 0.47774480712166173, 'eval_test_f1': 0.47707285515845504, 'eval_test_precision': 0.49384047556230515, 'eval_test_recall': 0.47774480712166173, 'eval_test_runtime': 3.0182, 'eval_test_samples_per_second': 111.657, 'eval_test_steps_per_second': 14.247, 'epoch': 1.0}\n"
   ]
  },
  {
   "cell_type": "code",
   "execution_count": null,
   "metadata": {},
   "outputs": [],
   "source": [
    "# wordnet definition augmentation:\n",
    "# DISTIL BERT\n",
    "validation => {'eval_loss': 0.7222092747688293, 'eval_accuracy': 0.7329545454545454, 'eval_f1': 0.7237641515296804, 'eval_precision': 0.7351377974249342, 'eval_recall': 0.7329545454545454, 'eval_runtime': 14.2851, 'eval_samples_per_second': 160.167, 'eval_steps_per_second': 20.021, 'epoch': 1.0}\n",
    "test => {'eval_loss': 0.7702270746231079, 'eval_accuracy': 0.7057280279842588, 'eval_f1': 0.6975379593102873, 'eval_precision': 0.7064895756472112, 'eval_recall': 0.7057280279842588, 'eval_runtime': 12.9684, 'eval_samples_per_second': 176.352, 'eval_steps_per_second': 22.054, 'epoch': 1.0}\n",
    "adversarial test =>  {'eval_test_loss': 1.3622294664382935, 'eval_test_accuracy': 0.4836795252225519, 'eval_test_f1': 0.48360755395451605, 'eval_test_precision': 0.5108700511665774, 'eval_test_recall': 0.4836795252225519, 'eval_test_runtime': 3.0061, 'eval_test_samples_per_second': 112.107, 'eval_test_steps_per_second': 14.304, 'epoch': 1.0}\n",
    "\n",
    "\n",
    "#BERT\n",
    "validation => {'eval_loss': 0.7121706008911133, 'eval_accuracy': 0.7347027972027972, 'eval_f1': 0.7259284339217656, 'eval_precision': 0.7382655707821125, 'eval_recall': 0.7347027972027972, 'eval_runtime': 24.0465, 'eval_samples_per_second': 95.149, 'eval_steps_per_second': 11.894, 'epoch': 1.0}\n",
    "test => {'eval_loss': 0.7735211849212646, 'eval_accuracy': 0.7157848710100568, 'eval_f1': 0.7066516100621915, 'eval_precision': 0.715359510022531, 'eval_recall': 0.7157848710100568, 'eval_runtime': 21.3322, 'eval_samples_per_second': 107.209, 'eval_steps_per_second': 13.407, 'epoch': 1.0}\n",
    "adversarial test =>  {'eval_test_loss': 1.1953227519989014, 'eval_test_accuracy': 0.5489614243323442, 'eval_test_f1': 0.5512023257989361, 'eval_test_precision': 0.5576248862342682, 'eval_test_recall': 0.5489614243323442, 'eval_test_runtime': 4.0748, 'eval_test_samples_per_second': 82.704, 'eval_test_steps_per_second': 10.553, 'epoch': 1.0}\n"
   ]
  }
 ],
 "metadata": {
  "language_info": {
   "name": "python"
  }
 },
 "nbformat": 4,
 "nbformat_minor": 2
}
